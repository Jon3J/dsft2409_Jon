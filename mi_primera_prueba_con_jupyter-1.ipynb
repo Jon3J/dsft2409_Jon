{
 "cells": [
  {
   "cell_type": "code",
   "execution_count": 1,
   "metadata": {},
   "outputs": [
    {
     "name": "stdout",
     "output_type": "stream",
     "text": [
      "hola, me llamo Jon\n"
     ]
    }
   ],
   "source": [
    "print(\"hola, me llamo Jon\")"
   ]
  },
  {
   "cell_type": "code",
   "execution_count": 3,
   "metadata": {},
   "outputs": [
    {
     "name": "stdout",
     "output_type": "stream",
     "text": [
      "Hola, mi nombre es: Jon\n",
      "Hola, mi nombre es: Jon\n"
     ]
    }
   ],
   "source": [
    "nombre = \"Jon\"\n",
    "print(f\"Hola, mi nombre es: {nombre}\")\n",
    "print(\"Hola, mi nombre es: \" + nombre)"
   ]
  },
  {
   "cell_type": "markdown",
   "metadata": {},
   "source": [
    "# A continuación me voy a presentar"
   ]
  },
  {
   "cell_type": "code",
   "execution_count": 4,
   "metadata": {},
   "outputs": [
    {
     "name": "stdout",
     "output_type": "stream",
     "text": [
      "Estoy leyendo un Libro de Leonardo Padura para que sepais algo sobre mi\n"
     ]
    }
   ],
   "source": [
    "print(\"Estoy leyendo un Libro de Leonardo Padura para que sepais algo sobre mi\")"
   ]
  }
 ],
 "metadata": {
  "kernelspec": {
   "display_name": "Python 3",
   "language": "python",
   "name": "python3"
  },
  "language_info": {
   "codemirror_mode": {
    "name": "ipython",
    "version": 3
   },
   "file_extension": ".py",
   "mimetype": "text/x-python",
   "name": "python",
   "nbconvert_exporter": "python",
   "pygments_lexer": "ipython3",
   "version": "3.9.6"
  }
 },
 "nbformat": 4,
 "nbformat_minor": 2
}
